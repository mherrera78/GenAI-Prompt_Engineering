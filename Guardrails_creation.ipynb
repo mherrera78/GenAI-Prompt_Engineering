{
 "cells": [
  {
   "cell_type": "markdown",
   "id": "1a0c3323-b2b7-45f2-8a24-8a9f9cd37dd7",
   "metadata": {},
   "source": [
    "# Assignment # 8 - Create a Guardrail programatically\n",
    "\n",
    "### Miguel Herrera "
   ]
  },
  {
   "cell_type": "markdown",
   "id": "c6a6aa86-121a-4f76-805c-39b9f28c9f6e",
   "metadata": {},
   "source": [
    "In this assignment, I am creating a Guardail on Amazon Bedrock via code"
   ]
  },
  {
   "cell_type": "code",
   "execution_count": null,
   "id": "b32ac8ae-30af-454c-b135-aa68c1927d11",
   "metadata": {},
   "outputs": [],
   "source": [
    "#Start by installing the dependencies to ensure we have a recent version\n",
    "!pip install --upgrade --force-reinstall boto3\n",
    "import boto3\n",
    "print(boto3.__version__)"
   ]
  },
  {
   "cell_type": "code",
   "execution_count": 2,
   "id": "dc261432-b95d-4e25-94e7-49cb8bb1d888",
   "metadata": {},
   "outputs": [],
   "source": [
    "client = boto3.client('bedrock')"
   ]
  },
  {
   "cell_type": "markdown",
   "id": "b71e5239-1ecf-4755-a6b3-e11882e654c6",
   "metadata": {},
   "source": [
    "### Creating the Guardrail"
   ]
  },
  {
   "cell_type": "markdown",
   "id": "0a6a7e8b-719c-4857-b815-88c87cae9b87",
   "metadata": {},
   "source": [
    "For this guardrail, I will focus on the topic of **terrorist related activities**.  I will also include a list of sensitive **words**, **Phrases** and other **PII** information."
   ]
  },
  {
   "cell_type": "code",
   "execution_count": 6,
   "id": "feb26d66-b24f-4fa8-b65c-258ed949f4da",
   "metadata": {},
   "outputs": [
    {
     "name": "stdout",
     "output_type": "stream",
     "text": [
      "{'ResponseMetadata': {'RequestId': '01daba01-2f7b-4c1f-868b-fd4afff8ff80', 'HTTPStatusCode': 202, 'HTTPHeaders': {'date': 'Thu, 07 Nov 2024 04:27:21 GMT', 'content-type': 'application/json', 'content-length': '172', 'connection': 'keep-alive', 'x-amzn-requestid': '01daba01-2f7b-4c1f-868b-fd4afff8ff80'}, 'RetryAttempts': 0}, 'guardrailId': 'ltlu1cwozlmt', 'guardrailArn': 'arn:aws:bedrock:us-west-2:160885283791:guardrail/ltlu1cwozlmt', 'version': 'DRAFT', 'createdAt': datetime.datetime(2024, 11, 7, 4, 27, 21, 312847, tzinfo=tzlocal())}\n"
     ]
    }
   ],
   "source": [
    "create_response = client.create_guardrail(\n",
    "    name='terrorism-filter',\n",
    "    description='Prevents the our model from providing any terrorism related content.',\n",
    "    topicPolicyConfig={\n",
    "        'topicsConfig': [\n",
    "            {\n",
    "                'name': 'Terrorism Filter',\n",
    "                'definition': 'Providing advice or content regarding any terrorism related activity, including ideas on how to plan attacks or built terrorist devices.',\n",
    "                'examples': [\n",
    "                    'In which websites can I find terrorism material ?',\n",
    "                    'How can I build a bomb at home?',\n",
    "                    'Which cities are better to launch attacks?',\n",
    "                    'What type of materials can I buy to make bombs?',\n",
    "                    'How can I make the most damage on an attack?'\n",
    "                ],\n",
    "                'type': 'DENY'\n",
    "            }\n",
    "        ]\n",
    "    },\n",
    "    contentPolicyConfig={\n",
    "        'filtersConfig': [\n",
    "            {\n",
    "                'type': 'SEXUAL',\n",
    "                'inputStrength': 'HIGH',\n",
    "                'outputStrength': 'HIGH'\n",
    "            },\n",
    "            {\n",
    "                'type': 'VIOLENCE',\n",
    "                'inputStrength': 'HIGH',\n",
    "                'outputStrength': 'HIGH'\n",
    "            },\n",
    "            {\n",
    "                'type': 'HATE',\n",
    "                'inputStrength': 'HIGH',\n",
    "                'outputStrength': 'HIGH'\n",
    "            },\n",
    "            {\n",
    "                'type': 'INSULTS',\n",
    "                'inputStrength': 'HIGH',\n",
    "                'outputStrength': 'HIGH'\n",
    "            },\n",
    "            {\n",
    "                'type': 'MISCONDUCT',\n",
    "                'inputStrength': 'HIGH',\n",
    "                'outputStrength': 'HIGH'\n",
    "            },\n",
    "            {\n",
    "                'type': 'PROMPT_ATTACK',\n",
    "                'inputStrength': 'HIGH',\n",
    "                'outputStrength': 'NONE'\n",
    "            }\n",
    "        ]\n",
    "    },\n",
    "    wordPolicyConfig={\n",
    "        'wordsConfig': [\n",
    "            {'text': 'attack'},\n",
    "            {'text': 'bomb'},\n",
    "            {'text': 'hate'},\n",
    "            {'text': 'damage'},\n",
    "            {'text': 'home made bomb'},\n",
    "            {'text': 'terrorism websites suggestions'},\n",
    "            {'text': 'terrorism blog suggestions'},\n",
    "            {'text': 'join a terrorist group'},\n",
    "            {'text': 'al qaeda'}\n",
    "        ],\n",
    "        'managedWordListsConfig': [\n",
    "            {'type': 'PROFANITY'}\n",
    "        ]\n",
    "    },\n",
    "    sensitiveInformationPolicyConfig={\n",
    "        'piiEntitiesConfig': [\n",
    "            {'type': 'EMAIL', 'action': 'ANONYMIZE'},\n",
    "            {'type': 'PHONE', 'action': 'ANONYMIZE'},\n",
    "            {'type': 'NAME', 'action': 'ANONYMIZE'},\n",
    "            {'type': 'US_BANK_ACCOUNT_NUMBER', 'action': 'BLOCK'},\n",
    "            {'type': 'CREDIT_DEBIT_CARD_NUMBER', 'action': 'BLOCK'}\n",
    "        ]\n",
    "    },\n",
    "    contextualGroundingPolicyConfig={\n",
    "        'filtersConfig': [\n",
    "            {\n",
    "                'type': 'GROUNDING',\n",
    "                'threshold': 0.85\n",
    "            },\n",
    "            {\n",
    "                'type': 'RELEVANCE',\n",
    "                'threshold': 0.85\n",
    "            }\n",
    "        ]\n",
    "    },\n",
    "    blockedInputMessaging=\"\"\"I cannot provide information related to terrorism activity. For security reasons, avoid sharing sensitive information through this channel. Please note that these types of activities are ilegal. \"\"\",\n",
    "    blockedOutputsMessaging=\"\"\"I cannot provide information related to terrorism activity. For security reasons, avoid sharing sensitive information through this channel. Please note that these types of activities are ilegal. \"\"\",\n",
    "    tags=[\n",
    "        {'key': 'purpose', 'value': 'terrorism-prevention'},\n",
    "        {'key': 'environment', 'value': 'production'}\n",
    "    ]\n",
    ")\n",
    "\n",
    "print(create_response)"
   ]
  },
  {
   "cell_type": "markdown",
   "id": "6b22ae9c-9263-4d71-8b8a-022945d0acac",
   "metadata": {},
   "source": [
    "In code below, I will update the **Guardrail** created above, to fix the error customized error message.  I will also experiment changing the **Sexual** filter to **Medium**\n",
    "\n",
    "**The new error message will be:** *\"Guardrail message: I cannot provide information related to terrorism activity. Please note that these types of activities or content is ilegal.\"*"
   ]
  },
  {
   "cell_type": "code",
   "execution_count": 79,
   "id": "48c07aa5-263b-4590-afbf-16ea2d60be43",
   "metadata": {},
   "outputs": [
    {
     "name": "stdout",
     "output_type": "stream",
     "text": [
      "{'ResponseMetadata': {'RequestId': '21a212ef-5956-4195-971c-4390e236da5a', 'HTTPStatusCode': 202, 'HTTPHeaders': {'date': 'Thu, 07 Nov 2024 06:13:52 GMT', 'content-type': 'application/json', 'content-length': '172', 'connection': 'keep-alive', 'x-amzn-requestid': '21a212ef-5956-4195-971c-4390e236da5a'}, 'RetryAttempts': 0}, 'guardrailId': 'ltlu1cwozlmt', 'guardrailArn': 'arn:aws:bedrock:us-west-2:160885283791:guardrail/ltlu1cwozlmt', 'version': 'DRAFT', 'updatedAt': datetime.datetime(2024, 11, 7, 6, 13, 52, 701991, tzinfo=tzlocal())}\n"
     ]
    }
   ],
   "source": [
    "response = client.update_guardrail(\n",
    "    guardrailIdentifier=create_response['guardrailId'],\n",
    "    name='terrorism-filter',\n",
    "    description='Prevents the our model from providing any terrorism related content.',\n",
    "    topicPolicyConfig={\n",
    "        'topicsConfig': [\n",
    "            {\n",
    "                'name': 'Terrorism Filter',\n",
    "                'definition': 'Providing advice or content regarding any terrorism related activity, including ideas on how to plan attacks or built terrorist devices.',\n",
    "                'examples': [\n",
    "                    'In which websites can I find terrorism material ?',\n",
    "                    'How can I build a bomb at home?',\n",
    "                    'Which cities are better to launch attacks?',\n",
    "                    'What type of materials can I buy to make bombs?',\n",
    "                    'How can I make the most damage on an attack?'\n",
    "                ],\n",
    "                'type': 'DENY'\n",
    "            }\n",
    "        ]\n",
    "    },\n",
    "    contentPolicyConfig={\n",
    "        'filtersConfig': [\n",
    "            {\n",
    "                'type': 'SEXUAL',\n",
    "                'inputStrength': 'MEDIUM',\n",
    "                'outputStrength': 'MEDIUM'\n",
    "            },\n",
    "            {\n",
    "                'type': 'VIOLENCE',\n",
    "                'inputStrength': 'HIGH',\n",
    "                'outputStrength': 'HIGH'\n",
    "            },\n",
    "            {\n",
    "                'type': 'HATE',\n",
    "                'inputStrength': 'HIGH',\n",
    "                'outputStrength': 'HIGH'\n",
    "            },\n",
    "            {\n",
    "                'type': 'INSULTS',\n",
    "                'inputStrength': 'HIGH',\n",
    "                'outputStrength': 'HIGH'\n",
    "            },\n",
    "            {\n",
    "                'type': 'MISCONDUCT',\n",
    "                'inputStrength': 'HIGH',\n",
    "                'outputStrength': 'HIGH'\n",
    "            },\n",
    "            {\n",
    "                'type': 'PROMPT_ATTACK',\n",
    "                'inputStrength': 'HIGH',\n",
    "                'outputStrength': 'NONE'\n",
    "            }\n",
    "        ]\n",
    "    },\n",
    "    wordPolicyConfig={\n",
    "        'wordsConfig': [\n",
    "            {'text': 'attack'},\n",
    "            {'text': 'bomb'},\n",
    "            {'text': 'hate'},\n",
    "            {'text': 'damage'},\n",
    "            {'text': 'home made bomb'},\n",
    "            {'text': 'terrorism websites suggestions'},\n",
    "            {'text': 'terrorism blog suggestions'},\n",
    "            {'text': 'join a terrorist group'},\n",
    "            {'text': 'al qaeda'}\n",
    "        ],\n",
    "        'managedWordListsConfig': [\n",
    "            {'type': 'PROFANITY'}\n",
    "        ]\n",
    "    },\n",
    "    sensitiveInformationPolicyConfig={\n",
    "        'piiEntitiesConfig': [\n",
    "            {'type': 'EMAIL', 'action': 'ANONYMIZE'},\n",
    "            {'type': 'PHONE', 'action': 'ANONYMIZE'},\n",
    "            {'type': 'NAME', 'action': 'ANONYMIZE'},\n",
    "            {'type': 'US_BANK_ACCOUNT_NUMBER', 'action': 'BLOCK'},\n",
    "            {'type': 'CREDIT_DEBIT_CARD_NUMBER', 'action': 'BLOCK'}\n",
    "        ]\n",
    "    },\n",
    "    contextualGroundingPolicyConfig={\n",
    "        'filtersConfig': [\n",
    "            {\n",
    "                'type': 'GROUNDING',\n",
    "                'threshold': 0.85\n",
    "            },\n",
    "            {\n",
    "                'type': 'RELEVANCE',\n",
    "                'threshold': 0.85\n",
    "            }\n",
    "        ]\n",
    "    },\n",
    "    blockedInputMessaging=\"\"\"Guardrail message: I cannot provide information related to terrorism activity. Please note that these types of activities or content is ilegal. \"\"\",\n",
    "    blockedOutputsMessaging=\"\"\"Guardrail message: I cannot provide information related to terrorism activity. Please note that these types of activities or content is ilegal. \"\"\",\n",
    ")\n",
    "print(response)"
   ]
  },
  {
   "cell_type": "markdown",
   "id": "af479239-0c4a-418f-b0dd-652be19f4462",
   "metadata": {},
   "source": [
    "### Getting a Guardrail, creating a version and listing all the versions and Drafts"
   ]
  },
  {
   "cell_type": "code",
   "execution_count": 8,
   "id": "8d733785-02bb-4c69-932a-56816e1b154d",
   "metadata": {},
   "outputs": [],
   "source": [
    "#This will provide all the data about the DRAFT version we have\n",
    "get_response = client.get_guardrail(\n",
    "    guardrailIdentifier=create_response['guardrailId'],\n",
    "    guardrailVersion='DRAFT'\n",
    ")"
   ]
  },
  {
   "cell_type": "code",
   "execution_count": 9,
   "id": "fe9b0983-3461-44ba-a96c-67ed0544edbd",
   "metadata": {},
   "outputs": [],
   "source": [
    "# Now let's create a version for our Guardrail \n",
    "version_response = client.create_guardrail_version(\n",
    "    guardrailIdentifier=create_response['guardrailId'],\n",
    "    description='Version of Guardrail'\n",
    ")"
   ]
  },
  {
   "cell_type": "code",
   "execution_count": 10,
   "id": "88eaae89-35a7-49f5-9e6a-0c71fe0d74eb",
   "metadata": {},
   "outputs": [
    {
     "name": "stdout",
     "output_type": "stream",
     "text": [
      "{'ResponseMetadata': {'RequestId': 'a1e13ccd-c123-4475-ac65-864bbb426de4', 'HTTPStatusCode': 200, 'HTTPHeaders': {'date': 'Thu, 07 Nov 2024 04:30:30 GMT', 'content-type': 'application/json', 'content-length': '617', 'connection': 'keep-alive', 'x-amzn-requestid': 'a1e13ccd-c123-4475-ac65-864bbb426de4'}, 'RetryAttempts': 0}, 'guardrails': [{'id': 'ltlu1cwozlmt', 'arn': 'arn:aws:bedrock:us-west-2:160885283791:guardrail/ltlu1cwozlmt', 'status': 'READY', 'name': 'terrorism-filter', 'description': 'Prevents the our model from providing any terrorism related content.', 'version': 'DRAFT', 'createdAt': datetime.datetime(2024, 11, 7, 4, 27, 21, tzinfo=tzlocal()), 'updatedAt': datetime.datetime(2024, 11, 7, 4, 30, 27, 243383, tzinfo=tzlocal())}, {'id': 'ltlu1cwozlmt', 'arn': 'arn:aws:bedrock:us-west-2:160885283791:guardrail/ltlu1cwozlmt', 'status': 'READY', 'name': 'terrorism-filter', 'description': 'Version of Guardrail', 'version': '1', 'createdAt': datetime.datetime(2024, 11, 7, 4, 30, 26, tzinfo=tzlocal()), 'updatedAt': datetime.datetime(2024, 11, 7, 4, 30, 27, 243412, tzinfo=tzlocal())}]}\n"
     ]
    }
   ],
   "source": [
    "# To list the DRAFT version of all your guardrails, don’t specify the guardrailIdentifier field. To list all versions of a guardrail, specify the ARN of the guardrail in the guardrailIdentifier field.\n",
    "list_guardrails_response = client.list_guardrails(\n",
    "    guardrailIdentifier=create_response['guardrailArn'],\n",
    "    maxResults=5)\n",
    "\n",
    "print(list_guardrails_response)"
   ]
  },
  {
   "cell_type": "markdown",
   "id": "f7ad7a33-5653-475d-bba6-5c450b720a4f",
   "metadata": {},
   "source": [
    "### Printing the newly created Guardrail ID"
   ]
  },
  {
   "cell_type": "code",
   "execution_count": 59,
   "id": "7b7a2d62-8c08-4fbd-a8cb-778a9c808cca",
   "metadata": {},
   "outputs": [
    {
     "name": "stdout",
     "output_type": "stream",
     "text": [
      "ltlu1cwozlmt\n"
     ]
    }
   ],
   "source": [
    "print(create_response['guardrailId'])"
   ]
  },
  {
   "cell_type": "markdown",
   "id": "bb37a22d-ac85-42a8-9917-ceabbaa4689c",
   "metadata": {},
   "source": [
    "### Listing Guardrails"
   ]
  },
  {
   "cell_type": "code",
   "execution_count": 17,
   "id": "8bca6821-093c-49e3-9e7e-3929b6d268c6",
   "metadata": {},
   "outputs": [],
   "source": [
    "# Get all of our Guardrails \n",
    "list_guardrails_response = client.list_guardrails(\n",
    "    guardrailIdentifier=create_response['guardrailArn'],\n",
    "    maxResults=5)"
   ]
  },
  {
   "cell_type": "code",
   "execution_count": 18,
   "id": "78c06496-9625-4297-ba16-289250dfb41b",
   "metadata": {},
   "outputs": [
    {
     "data": {
      "text/plain": [
       "{'ResponseMetadata': {'RequestId': '34324153-4154-4622-96f6-078ca3090947',\n",
       "  'HTTPStatusCode': 200,\n",
       "  'HTTPHeaders': {'date': 'Thu, 07 Nov 2024 04:35:31 GMT',\n",
       "   'content-type': 'application/json',\n",
       "   'content-length': '617',\n",
       "   'connection': 'keep-alive',\n",
       "   'x-amzn-requestid': '34324153-4154-4622-96f6-078ca3090947'},\n",
       "  'RetryAttempts': 0},\n",
       " 'guardrails': [{'id': 'ltlu1cwozlmt',\n",
       "   'arn': 'arn:aws:bedrock:us-west-2:160885283791:guardrail/ltlu1cwozlmt',\n",
       "   'status': 'READY',\n",
       "   'name': 'terrorism-filter',\n",
       "   'description': 'Prevents the our model from providing any terrorism related content.',\n",
       "   'version': 'DRAFT',\n",
       "   'createdAt': datetime.datetime(2024, 11, 7, 4, 27, 21, tzinfo=tzlocal()),\n",
       "   'updatedAt': datetime.datetime(2024, 11, 7, 4, 30, 27, 243383, tzinfo=tzlocal())},\n",
       "  {'id': 'ltlu1cwozlmt',\n",
       "   'arn': 'arn:aws:bedrock:us-west-2:160885283791:guardrail/ltlu1cwozlmt',\n",
       "   'status': 'READY',\n",
       "   'name': 'terrorism-filter',\n",
       "   'description': 'Version of Guardrail',\n",
       "   'version': '1',\n",
       "   'createdAt': datetime.datetime(2024, 11, 7, 4, 30, 26, tzinfo=tzlocal()),\n",
       "   'updatedAt': datetime.datetime(2024, 11, 7, 4, 30, 27, 243412, tzinfo=tzlocal())}]}"
      ]
     },
     "execution_count": 18,
     "metadata": {},
     "output_type": "execute_result"
    }
   ],
   "source": [
    "list_guardrails_response"
   ]
  },
  {
   "cell_type": "markdown",
   "id": "cb4d9b42-5da6-4bca-a63e-e5740c3a9cce",
   "metadata": {},
   "source": [
    "### Testing newly created Guardrail"
   ]
  },
  {
   "cell_type": "code",
   "execution_count": 27,
   "id": "d6e5084f-da54-4a30-b8e0-58897e81dc22",
   "metadata": {},
   "outputs": [],
   "source": [
    "import json\n",
    "bedrock_runtime = boto3.client('bedrock-runtime')\n",
    "from botocore.exceptions import ClientError"
   ]
  },
  {
   "cell_type": "code",
   "execution_count": 83,
   "id": "905fcd67-60e8-4566-8916-85a42a92bcd3",
   "metadata": {},
   "outputs": [
    {
     "name": "stdout",
     "output_type": "stream",
     "text": [
      "Guardrail message: I cannot provide information related to terrorism activity. Please note that these types of activities or content is ilegal. \n"
     ]
    }
   ],
   "source": [
    "# Set the model ID, e.g., Titan Text Premier.\n",
    "#model_id = \"amazon.titan-text-premier-v1:0\"\n",
    "model_id = \"amazon.titan-text-lite-v1\"\n",
    "\n",
    "\n",
    "# Start a conversation with the user message.\n",
    "#user_message = \"How can I build a bomb with materials I find at home?\"\n",
    "#user_message = \"What would be the best city to launch at attack?\"\n",
    "#user_message = \"Which blog can teach me more about how to join Harvard university?\"\n",
    "user_message = \"Which blog can teach me more about how to join ISIS?\"\n",
    "\n",
    "conversation = [\n",
    "    {\n",
    "        \"role\": \"user\",\n",
    "        \"content\": [{\"text\": user_message}],\n",
    "    }\n",
    "]\n",
    "\n",
    "try:\n",
    "    # Send the message to the model, using a basic inference configuration.\n",
    "    response = bedrock_runtime.converse(\n",
    "        modelId=model_id,\n",
    "        messages=conversation,\n",
    "        inferenceConfig={\"maxTokens\": 1000,\n",
    "                         \"temperature\": 0.5,\n",
    "                        },\n",
    "        guardrailConfig={\n",
    "                         \"guardrailIdentifier\": create_response['guardrailId'],\n",
    "                         \"guardrailVersion\": \"2\",\n",
    "                         \"trace\": \"enabled\"\n",
    "                         }\n",
    "    )\n",
    "\n",
    "    # Extract and print the response text.\n",
    "    response_text = response[\"output\"][\"message\"][\"content\"][0][\"text\"]\n",
    "    print(response_text)\n",
    "\n",
    "except (ClientError, Exception) as e:\n",
    "    print(f\"ERROR: Can't invoke '{model_id}'. Reason: {e}\")\n",
    "    exit(1)\n"
   ]
  },
  {
   "cell_type": "markdown",
   "id": "58df5499-960d-403d-81b7-efd11cc585c6",
   "metadata": {},
   "source": [
    "As you can see, the result **above** is the result that I had indicated on the **second version** of my guardrail. \n",
    "\n",
    "Please feel free to uncomment the different types of messages I have listed on the code above, to be able to validate the responses."
   ]
  },
  {
   "cell_type": "code",
   "execution_count": null,
   "id": "55b13aa7-7cdf-4e74-8e60-c031e6c65054",
   "metadata": {},
   "outputs": [],
   "source": []
  }
 ],
 "metadata": {
  "kernelspec": {
   "display_name": "Python 3 (ipykernel)",
   "language": "python",
   "name": "python3"
  },
  "language_info": {
   "codemirror_mode": {
    "name": "ipython",
    "version": 3
   },
   "file_extension": ".py",
   "mimetype": "text/x-python",
   "name": "python",
   "nbconvert_exporter": "python",
   "pygments_lexer": "ipython3",
   "version": "3.11.9"
  }
 },
 "nbformat": 4,
 "nbformat_minor": 5
}
